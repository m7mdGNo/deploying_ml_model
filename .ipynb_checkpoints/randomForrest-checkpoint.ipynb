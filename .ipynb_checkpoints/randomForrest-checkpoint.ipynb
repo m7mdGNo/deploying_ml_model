{
 "cells": [
  {
   "cell_type": "code",
   "execution_count": 3,
   "id": "b694cd47",
   "metadata": {
    "id": "b694cd47"
   },
   "outputs": [],
   "source": [
    "import numpy as np # linear algebra -for numeric computations\n",
    "import pandas as pd # data processing -to store data as dataframes \n",
    "import matplotlib.pyplot as plt # data visualization \n",
    "%matplotlib inline\n",
    "import seaborn as sns # data visualization \n",
    "from sklearn.ensemble import RandomForestClassifier\n",
    "from sklearn.model_selection import train_test_split\n",
    "from sklearn.model_selection import GridSearchCV\n",
    "from sklearn.metrics import accuracy_score\n",
    "from sklearn.metrics import classification_report\n",
    "from sklearn.metrics import confusion_matrix\n",
    "from sklearn.ensemble import RandomForestRegressor\n",
    "import sklearn.metrics as metrics\n",
    "from sklearn.metrics import mean_squared_error\n",
    "from sklearn.metrics import mean_absolute_error\n",
    "import math"
   ]
  },
  {
   "cell_type": "code",
   "execution_count": null,
   "id": "d7b33d62",
   "metadata": {
    "colab": {
     "base_uri": "https://localhost:8080/",
     "height": 484
    },
    "id": "d7b33d62",
    "outputId": "518f3f7f-da7f-4b0a-98a0-e9ff6c69c0e9"
   },
   "outputs": [],
   "source": [
    "data = pd.read_csv(\"https://bit.ly/prosper-dataset\")\n",
    "data.head(7)"
   ]
  },
  {
   "cell_type": "code",
   "execution_count": null,
   "id": "97c01a30",
   "metadata": {
    "id": "97c01a30"
   },
   "outputs": [],
   "source": [
    "# parsing Dates\n",
    "data['ListingCreationDate'] = pd.to_datetime(data['ListingCreationDate'])\n",
    "data['ClosedDate'] = pd.to_datetime(data['ClosedDate'])\n",
    "data['DateCreditPulled'] = pd.to_datetime(data['DateCreditPulled'])\n",
    "data['FirstRecordedCreditLine'] = pd.to_datetime(data['FirstRecordedCreditLine'])\n",
    "data['LoanOriginationDate'] = pd.to_datetime(data['LoanOriginationDate'])\n"
   ]
  },
  {
   "cell_type": "code",
   "execution_count": null,
   "id": "a2903cf0",
   "metadata": {
    "colab": {
     "base_uri": "https://localhost:8080/"
    },
    "id": "a2903cf0",
    "outputId": "90ceea3d-6367-4e84-d2c9-a73661078d5e"
   },
   "outputs": [],
   "source": [
    "#  removing any feature with more than 75% of missing values.\n",
    "data_with_less_missing_values = data.dropna(thresh=data.shape[0] * 0.25, axis=1)\n",
    "data_with_less_missing_values.shape"
   ]
  },
  {
   "cell_type": "code",
   "execution_count": null,
   "id": "8049707d",
   "metadata": {
    "colab": {
     "base_uri": "https://localhost:8080/"
    },
    "id": "8049707d",
    "outputId": "470ab625-215f-4411-b90a-121226b40fc0"
   },
   "outputs": [],
   "source": [
    "# removing loan samples with have more than 20% of missing values\n",
    "data_with_less_missing_values = data_with_less_missing_values.dropna(thresh=data.shape[1] * 0.80, axis=0).reset_index(drop=True)\n",
    "data_with_less_missing_values.shape"
   ]
  },
  {
   "cell_type": "code",
   "execution_count": null,
   "id": "569be9f5",
   "metadata": {
    "id": "569be9f5"
   },
   "outputs": [],
   "source": [
    "cat_cols = [name for name in data_with_less_missing_values \n",
    "                        if data_with_less_missing_values[name].dtype in [\"object\", \"bool\" ]]\n",
    "numerical_cols = [name for name in data_with_less_missing_values.columns\n",
    "                      if data_with_less_missing_values[name].dtype in ['int64', 'float64', 'datetime64[ns]']]\n",
    "cat_data = data_with_less_missing_values.drop(axis=1, columns=numerical_cols)\n",
    "num_data = data_with_less_missing_values.drop(axis=1, columns=cat_cols)\n"
   ]
  },
  {
   "cell_type": "code",
   "execution_count": null,
   "id": "ec5de699",
   "metadata": {
    "id": "ec5de699"
   },
   "outputs": [],
   "source": [
    "cat_data.Occupation = cat_data.Occupation.fillna(cat_data.Occupation.mode().iloc[0])"
   ]
  },
  {
   "cell_type": "code",
   "execution_count": null,
   "id": "654e6c78",
   "metadata": {
    "id": "654e6c78"
   },
   "outputs": [],
   "source": [
    "cat_data = cat_data.drop(axis=1, columns=['ProsperRating (Alpha)'])"
   ]
  },
  {
   "cell_type": "code",
   "execution_count": null,
   "id": "e1782999",
   "metadata": {
    "id": "e1782999"
   },
   "outputs": [],
   "source": [
    "# all missing values in the CreditGrade column represents the rating value 0\n",
    "# fill in nan values with letter Z and then use OrdinalEncoder to convert it to numerical values\n",
    "cat_data.CreditGrade = cat_data.CreditGrade.fillna(\"Z\")\n",
    "from sklearn.preprocessing import OrdinalEncoder\n",
    "ratings = ['Z', 'HR', 'E', 'D', 'C', 'B', 'A', 'AA']\n",
    "encoder = OrdinalEncoder(categories = [ratings])\n",
    "cat_data[['CreditGrade']] = encoder.fit_transform(cat_data[['CreditGrade']])\n",
    "cat_data.CreditGrade = cat_data.CreditGrade.astype(int)"
   ]
  },
  {
   "cell_type": "code",
   "execution_count": null,
   "id": "09d18c50",
   "metadata": {
    "colab": {
     "base_uri": "https://localhost:8080/"
    },
    "id": "09d18c50",
    "outputId": "1da822d7-c93a-4949-fa41-61165ce5c96c"
   },
   "outputs": [],
   "source": []
  },
  {
   "cell_type": "code",
   "execution_count": null,
   "id": "c995eb01",
   "metadata": {
    "id": "c995eb01"
   },
   "outputs": [],
   "source": [
    "cat_data = cat_data.drop(columns=['LoanKey','MemberKey','ListingKey'],axis=1)"
   ]
  },
  {
   "cell_type": "code",
   "execution_count": null,
   "id": "e3eca076",
   "metadata": {
    "colab": {
     "base_uri": "https://localhost:8080/"
    },
    "id": "e3eca076",
    "outputId": "a19039fb-a24d-4bf2-bcbe-4a130239eda7"
   },
   "outputs": [],
   "source": []
  },
  {
   "cell_type": "code",
   "execution_count": null,
   "id": "647963f3",
   "metadata": {
    "colab": {
     "base_uri": "https://localhost:8080/"
    },
    "id": "647963f3",
    "outputId": "51e8ed8f-8358-44da-86b1-88a4ddb7d3a1"
   },
   "outputs": [],
   "source": []
  },
  {
   "cell_type": "code",
   "execution_count": null,
   "id": "51d856b5",
   "metadata": {
    "colab": {
     "base_uri": "https://localhost:8080/"
    },
    "id": "51d856b5",
    "outputId": "f11eee75-29bf-46ec-d8ed-158adb5de0b5"
   },
   "outputs": [],
   "source": []
  },
  {
   "cell_type": "code",
   "execution_count": null,
   "id": "e2debf94",
   "metadata": {
    "id": "e2debf94"
   },
   "outputs": [],
   "source": [
    "num_data['DebtToIncomeRatio'].fillna(value=num_data['DebtToIncomeRatio'].median(), inplace=True)"
   ]
  },
  {
   "cell_type": "code",
   "execution_count": null,
   "id": "ed72f40a",
   "metadata": {
    "colab": {
     "base_uri": "https://localhost:8080/",
     "height": 34
    },
    "id": "ed72f40a",
    "outputId": "dd860d82-8b55-4798-b0b5-672adddb652e"
   },
   "outputs": [],
   "source": [
    "plt.figure(figsize=(45,10))\n",
    "num_data.EmploymentStatusDuration = num_data.EmploymentStatusDuration.fillna(num_data.EmploymentStatusDuration.mode().iloc[0])"
   ]
  },
  {
   "cell_type": "code",
   "execution_count": null,
   "id": "c7cecf26",
   "metadata": {
    "id": "c7cecf26"
   },
   "outputs": [],
   "source": [
    "num_data.ClosedDate.fillna(value='Not Closed', inplace=True)"
   ]
  },
  {
   "cell_type": "code",
   "execution_count": null,
   "id": "08aaef46",
   "metadata": {
    "colab": {
     "base_uri": "https://localhost:8080/"
    },
    "id": "08aaef46",
    "outputId": "825f1dbf-0735-4461-b932-77f97ed2abb1"
   },
   "outputs": [],
   "source": [
    "num_data.isna().sum()"
   ]
  },
  {
   "cell_type": "markdown",
   "id": "38b93134",
   "metadata": {
    "id": "38b93134"
   },
   "source": [
    "# added new"
   ]
  },
  {
   "cell_type": "code",
   "execution_count": null,
   "id": "3b84cf70",
   "metadata": {
    "id": "3b84cf70"
   },
   "outputs": [],
   "source": [
    "num_data['EstimatedEffectiveYield'].fillna(value=num_data['EstimatedEffectiveYield'].median(), inplace=True)\n",
    "num_data['EstimatedLoss'].fillna(value=num_data['EstimatedLoss'].median(), inplace=True)\n",
    "num_data['EstimatedReturn'].fillna(value=num_data['EstimatedReturn'].median(), inplace=True)\n",
    "num_data['ProsperRating (numeric)'].fillna(value=num_data['ProsperRating (numeric)'].median(), inplace=True)\n",
    "num_data['ProsperScore'].fillna(value=num_data['ProsperScore'].median(), inplace=True)"
   ]
  },
  {
   "cell_type": "code",
   "execution_count": null,
   "id": "cf3a75db",
   "metadata": {
    "colab": {
     "base_uri": "https://localhost:8080/"
    },
    "id": "cf3a75db",
    "outputId": "87db0c1b-bced-419d-f95f-3cc900780cf5"
   },
   "outputs": [],
   "source": [
    "num_data.isna().sum()"
   ]
  },
  {
   "cell_type": "code",
   "execution_count": null,
   "id": "f6e6da56",
   "metadata": {
    "colab": {
     "base_uri": "https://localhost:8080/",
     "height": 424
    },
    "id": "f6e6da56",
    "outputId": "f4c41d5c-a2da-4f9f-e43c-e73c249e26c8"
   },
   "outputs": [],
   "source": [
    "num_data.select_dtypes(include=('object'))"
   ]
  },
  {
   "cell_type": "code",
   "execution_count": null,
   "id": "12a36a57",
   "metadata": {
    "id": "12a36a57"
   },
   "outputs": [],
   "source": [
    "num_data['ClosedDate'] = num_data['ClosedDate'].fillna(0)\n",
    "num_data['ClosedDate'] = num_data['ClosedDate'].apply(lambda x:1 if x!='Not Closed' else 0)"
   ]
  },
  {
   "cell_type": "code",
   "execution_count": null,
   "id": "c08305fa",
   "metadata": {
    "colab": {
     "base_uri": "https://localhost:8080/"
    },
    "id": "c08305fa",
    "outputId": "a650e7b4-7e7e-473d-9791-a7dbad57c46d"
   },
   "outputs": [],
   "source": [
    "num_data.ClosedDate"
   ]
  },
  {
   "cell_type": "code",
   "execution_count": null,
   "id": "d49c05b0",
   "metadata": {
    "id": "d49c05b0"
   },
   "outputs": [],
   "source": [
    "modified_data = num_data.join(cat_data)"
   ]
  },
  {
   "cell_type": "code",
   "execution_count": null,
   "id": "b9d9d872",
   "metadata": {
    "colab": {
     "base_uri": "https://localhost:8080/"
    },
    "id": "b9d9d872",
    "outputId": "87709af4-04fe-448c-b7e3-3bcbd2b91b4d"
   },
   "outputs": [],
   "source": [
    "modified_data.select_dtypes(include=('bool')).columns"
   ]
  },
  {
   "cell_type": "code",
   "execution_count": null,
   "id": "48bac188",
   "metadata": {
    "id": "48bac188"
   },
   "outputs": [],
   "source": [
    "bools = ['IsBorrowerHomeowner', 'CurrentlyInGroup', 'IncomeVerifiable']\n",
    "for i in bools:\n",
    "    modified_data[i] = modified_data[i].apply(lambda x:1 if x else 0)"
   ]
  },
  {
   "cell_type": "code",
   "execution_count": null,
   "id": "c0a66ea5",
   "metadata": {
    "colab": {
     "base_uri": "https://localhost:8080/"
    },
    "id": "c0a66ea5",
    "outputId": "3c09d450-6d40-4b15-b9fa-bd697ced610c"
   },
   "outputs": [],
   "source": [
    "modified_data.info()"
   ]
  },
  {
   "cell_type": "code",
   "execution_count": null,
   "id": "fdb1eefb",
   "metadata": {
    "id": "fdb1eefb"
   },
   "outputs": [],
   "source": [
    "# modified_data.to_csv('cleaned.csv',index=True)"
   ]
  },
  {
   "cell_type": "code",
   "execution_count": null,
   "id": "qBNgkroqbI6X",
   "metadata": {
    "id": "qBNgkroqbI6X"
   },
   "outputs": [],
   "source": [
    "modified_data = modified_data.drop([\"ListingCreationDate\",\"DateCreditPulled\",\"FirstRecordedCreditLine\",\"LoanOriginationDate\",\"LoanOriginationQuarter\",\"ListingNumber\",\"LoanNumber\"],axis=1)"
   ]
  },
  {
   "cell_type": "code",
   "execution_count": null,
   "id": "b0hZAVr3gucZ",
   "metadata": {
    "id": "b0hZAVr3gucZ"
   },
   "outputs": [],
   "source": [
    "# Selected those features according to the output of RandomForestClassifier importance function\n",
    "modified_data = modified_data[[\"ClosedDate\",\"LoanCurrentDaysDelinquent\",\"LoanMonthsSinceOrigination\",\"LP_CustomerPrincipalPayments\",\"LP_GrossPrincipalLoss\",\"LP_NetPrincipalLoss\",\"LP_CustomerPayments\",\"EmploymentStatus\",\"LP_ServiceFees\",\"LoanOriginalAmount\",\"Investors\",\"EstimatedReturn\",\"LP_InterestandFees\",\"MonthlyLoanPayment\",\"LP_CollectionFees\",\"EstimatedEffectiveYield\",\"EstimatedLoss\",\"Term\",\"BorrowerAPR\",\"LP_NonPrincipalRecoverypayments\",\"BorrowerRate\",\"ListingCategory (numeric)\",\"LenderYield\",\"CreditScoreRangeUpper\",\"OpenRevolvingMonthlyPayment\",\"ProsperScore\",\"CreditScoreRangeLower\",\"RevolvingCreditBalance\",\"ProsperRating (numeric)\",\"AvailableBankcardCredit\",\"EmploymentStatusDuration\",\"DebtToIncomeRatio\",\"StatedMonthlyIncome\",\"BankcardUtilization\",\"TotalCreditLinespast7years\",\"TotalTrades\",\"LoanStatus\"]]\n",
    "\n",
    "y = modified_data[\"LoanStatus\"]\n",
    "X = modified_data.drop([\"LoanStatus\"],axis=1)\n",
    "label_encoding_cols=[\"EmploymentStatus\"]\n",
    "for i in label_encoding_cols:\n",
    "    X[i]=X[i].astype(\"category\")\n",
    "    X[i]=X[i].cat.codes"
   ]
  },
  {
   "cell_type": "code",
   "execution_count": null,
   "id": "ccf324c8",
   "metadata": {},
   "outputs": [],
   "source": []
  },
  {
   "cell_type": "code",
   "execution_count": null,
   "id": "5bZUEPLQaS0R",
   "metadata": {
    "colab": {
     "base_uri": "https://localhost:8080/",
     "height": 1000
    },
    "id": "5bZUEPLQaS0R",
    "outputId": "c10d747c-a917-413e-d914-90e1c626fc31"
   },
   "outputs": [],
   "source": [
    "x_train, x_test,y_train, y_test = train_test_split(X,y,test_size = 0.2,random_state=0)\n",
    "rf = RandomForestClassifier(n_estimators = 300,random_state = 1, max_depth=30,n_jobs=-1)\n",
    "rf.fit(x_train,y_train)\n",
    "rf_pred=rf.predict(x_test)\n",
    "\n",
    "import pickle \n",
    "pickle.dump(rf,open('rf_classification.sav'))"
   ]
  },
  {
   "cell_type": "code",
   "execution_count": null,
   "id": "2622fb4e",
   "metadata": {},
   "outputs": [],
   "source": [
    "cols = ['ClosedDate', 'LoanCurrentDaysDelinquent', 'LoanMonthsSinceOrigination',\n",
    "       'LP_CustomerPrincipalPayments', 'LP_GrossPrincipalLoss',\n",
    "       'LP_NetPrincipalLoss', 'LP_CustomerPayments', 'EmploymentStatus',\n",
    "       'LP_ServiceFees', 'LoanOriginalAmount', 'Investors', 'EstimatedReturn',\n",
    "       'LP_InterestandFees', 'MonthlyLoanPayment', 'LP_CollectionFees',\n",
    "       'EstimatedEffectiveYield', 'EstimatedLoss', 'Term', 'BorrowerAPR',\n",
    "       'LP_NonPrincipalRecoverypayments', 'BorrowerRate',\n",
    "       'ListingCategory (numeric)', 'LenderYield', 'CreditScoreRangeUpper',\n",
    "       'OpenRevolvingMonthlyPayment', 'ProsperScore', 'CreditScoreRangeLower',\n",
    "       'RevolvingCreditBalance', 'ProsperRating (numeric)',\n",
    "       'AvailableBankcardCredit', 'EmploymentStatusDuration',\n",
    "       'DebtToIncomeRatio', 'StatedMonthlyIncome', 'BankcardUtilization',\n",
    "       'TotalCreditLinespast7years', 'TotalTrades']\n",
    "for i in cols:\n",
    "    print(f'{i} = models.FloatField(default=0)')"
   ]
  },
  {
   "cell_type": "code",
   "execution_count": null,
   "id": "A6ro2iuRdSTV",
   "metadata": {
    "id": "A6ro2iuRdSTV"
   },
   "outputs": [],
   "source": [
    "x_train"
   ]
  },
  {
   "cell_type": "code",
   "execution_count": null,
   "id": "T3K7SH8CfOdA",
   "metadata": {
    "colab": {
     "base_uri": "https://localhost:8080/"
    },
    "id": "T3K7SH8CfOdA",
    "outputId": "f0562696-df91-4273-f37f-7ba688b458c8"
   },
   "outputs": [],
   "source": [
    "print(\"---------------------------------------------------------------------\")\n",
    "print(\"Accuracy Score for Random Forest :\",accuracy_score(y_test,rf_pred))\n",
    "print(\"---------------------------------------------------------------------\")\n",
    "print(\"\\n\")\n",
    "print(\"classification stats for Random Forest Classifier :\\n\\n\",classification_report(y_test, rf_pred))\n",
    "print(\"---------------------------------------------------------------------\")"
   ]
  },
  {
   "cell_type": "code",
   "execution_count": null,
   "id": "eK9Ynom0g6OV",
   "metadata": {
    "colab": {
     "base_uri": "https://localhost:8080/",
     "height": 932
    },
    "id": "eK9Ynom0g6OV",
    "outputId": "adb1ca50-d38f-4206-e9f2-cffe510758da"
   },
   "outputs": [],
   "source": [
    "cm=confusion_matrix(y_test,rf_pred)\n",
    "conf_matrix=pd.DataFrame(data=cm,columns=['Predicted:1','Predicted:2','Predicted:3','Predicted:4','Predicted:5','Predicted:6','Predicted:7','Predicted:8','Predicted:9','Predicted:10','Predicted:11'],\n",
    "                                         index=['Actual:1','Actual:2','Actual:3','Actual:4','Actual:5','Actual:6','Actual:7','Actual:8','Actual:9','Actual:10','Actual:11'])                          \n",
    "plt.figure(figsize = (15,15))\n",
    "sns.heatmap(conf_matrix, annot=True,fmt='d',cmap='Blues')\n",
    "plt.title(\"confusion Matrix for  Random Forest\")\n",
    "plt.show()"
   ]
  },
  {
   "cell_type": "code",
   "execution_count": null,
   "id": "g_LATbOOpjhp",
   "metadata": {
    "id": "g_LATbOOpjhp"
   },
   "outputs": [],
   "source": [
    "y = modified_data[\"BorrowerRate\"]\n",
    "X = modified_data.drop([\"BorrowerRate\"],axis=1)\n",
    "label_encoding_cols=[\"EmploymentStatus\",\"LoanStatus\"]\n",
    "for i in label_encoding_cols:\n",
    "    X[i]=X[i].astype(\"category\")\n",
    "    X[i]=X[i].cat.codes"
   ]
  },
  {
   "cell_type": "code",
   "execution_count": null,
   "id": "HbVct-y8qZMT",
   "metadata": {
    "id": "HbVct-y8qZMT"
   },
   "outputs": [],
   "source": [
    "x_train, x_test,y_train, y_test = train_test_split(X,y,test_size = 0.2,random_state=0)\n",
    "rf = RandomForestRegressor(n_estimators = 300,random_state = 1, max_depth=30,n_jobs=-1)\n",
    "rf.fit(x_train,y_train)\n",
    "rf_pred=rf.predict(x_test)"
   ]
  },
  {
   "cell_type": "code",
   "execution_count": null,
   "id": "3e8edb86",
   "metadata": {},
   "outputs": [],
   "source": [
    "import pickle\n",
    "pickle.dump(rf,open('rf_regression.sav','wb'))"
   ]
  },
  {
   "cell_type": "code",
   "execution_count": null,
   "id": "nstbZ20Ksj-4",
   "metadata": {
    "colab": {
     "base_uri": "https://localhost:8080/"
    },
    "id": "nstbZ20Ksj-4",
    "outputId": "87b702d1-336d-4ff3-ae55-2bc828f4a240"
   },
   "outputs": [],
   "source": [
    "RMSE = math.sqrt(mean_squared_error(y_test,rf_pred))\n",
    "print('RMSE:'+str(RMSE))\n",
    "MAE = mean_absolute_error(y_test,rf_pred)\n",
    "print('MAE:'+str(MAE))"
   ]
  },
  {
   "cell_type": "code",
   "execution_count": null,
   "id": "66c862b1",
   "metadata": {},
   "outputs": [],
   "source": []
  },
  {
   "cell_type": "code",
   "execution_count": null,
   "id": "02f78aa1",
   "metadata": {},
   "outputs": [],
   "source": []
  },
  {
   "cell_type": "code",
   "execution_count": null,
   "id": "9cf5fc6e",
   "metadata": {},
   "outputs": [],
   "source": []
  },
  {
   "cell_type": "code",
   "execution_count": null,
   "id": "b6fe2724",
   "metadata": {},
   "outputs": [],
   "source": []
  },
  {
   "cell_type": "code",
   "execution_count": null,
   "id": "b21f1dc9",
   "metadata": {},
   "outputs": [],
   "source": []
  },
  {
   "cell_type": "code",
   "execution_count": null,
   "id": "ad94b3ea",
   "metadata": {},
   "outputs": [],
   "source": []
  },
  {
   "cell_type": "code",
   "execution_count": null,
   "id": "8d9be450",
   "metadata": {},
   "outputs": [],
   "source": []
  },
  {
   "cell_type": "code",
   "execution_count": null,
   "id": "40416c35",
   "metadata": {},
   "outputs": [],
   "source": []
  },
  {
   "cell_type": "code",
   "execution_count": null,
   "id": "741c8ba5",
   "metadata": {},
   "outputs": [],
   "source": []
  }
 ],
 "metadata": {
  "colab": {
   "name": "notebook.ipynb",
   "provenance": []
  },
  "kernelspec": {
   "display_name": "Python 3 (ipykernel)",
   "language": "python",
   "name": "python3"
  },
  "language_info": {
   "codemirror_mode": {
    "name": "ipython",
    "version": 3
   },
   "file_extension": ".py",
   "mimetype": "text/x-python",
   "name": "python",
   "nbconvert_exporter": "python",
   "pygments_lexer": "ipython3",
   "version": "3.9.7"
  },
  "vscode": {
   "interpreter": {
    "hash": "1bae2d6fae5a5d1102dfbdb19518173c27ee558f9022a11fbfd96d194fe41897"
   }
  }
 },
 "nbformat": 4,
 "nbformat_minor": 5
}
